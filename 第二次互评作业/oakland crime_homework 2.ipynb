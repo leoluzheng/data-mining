{
  "cells": [
    {
      "cell_type": "markdown",
      "metadata": {
        "colab_type": "text",
        "id": "p2Yoiq2jiiTD"
      },
      "source": [
        "# 互评作业2: 频繁模式与关联规则挖掘\n",
        "## 作业说明\n",
        "1. 问题描述\n",
        "> 本次作业中，选择1个数据集进行频繁模式和关联规则挖掘。\n",
        "\n",
        "2. 数据说明\n",
        "\n",
        "Oakland Crime Statistics 2011 to 2016  \n",
        "\n",
        "3. 数据分析要求\n",
        "> 对数据集进行处理，转换成适合进行关联规则挖掘的形式；  \n",
        "找出频繁模式； \n",
        "导出关联规则，计算其支持度和置信度;  \n",
        "对规则进行评价，可使用Lift、卡方和其它教材中提及的指标, 至少2种；  \n",
        "对挖掘结果进行分析；  \n",
        "可视化展示。\n",
        "\n",
        "4. github地址\n",
        "   https://github.com/leoluzheng/data-mining/tree/main/第二次互评作业"
      ]
    },
    {
      "cell_type": "markdown",
      "metadata": {
        "colab_type": "text",
        "id": "0DiuuOWa_5pJ"
      },
      "source": [
        "## 数据集 Oakland Crime Statistics 2011 to 2016\n",
        "### 数据内容\n",
        "奥克兰2011到2016年的犯罪数据，包括时间、位置、区域、事件类型等信息。\n",
        "\n"
      ]
    },
    {
      "cell_type": "code",
      "execution_count": 4,
      "metadata": {
        "colab": {},
        "colab_type": "code",
        "id": "QFbhV90FiiTE"
      },
      "outputs": [],
      "source": [
        "import numpy as np\n",
        "import scipy as sp\n",
        "import pandas as pd\n",
        "import matplotlib.pyplot as plt\n",
        "import seaborn as sns\n",
        "import json\n",
        "import math\n",
        "import re\n",
        "import sys\n",
        "import csv\n",
        "import os"
      ]
    },
    {
      "cell_type": "markdown",
      "metadata": {},
      "source": [
        "## 关联规则挖掘\n",
        "本次作业使用的关联规则挖掘算法为Apriori算法\n",
        "* Apriori算法是一种挖掘关联规则的频繁项集算法，其核心思想是通过候选集生成和情节的向下封闭检测两个阶段来挖掘频繁项集。\n",
        "        关联规则的一般步骤:\n",
        "     >  1、找到频繁集。\n",
        "     2、在频繁集中通过可信度筛选获得关联规则。\n",
        "\n",
        "        "
      ]
    },
    {
      "cell_type": "markdown",
      "metadata": {
        "colab_type": "text",
        "id": "r8pEIq_3ASFm"
      },
      "source": [
        "### Apriori算法\n",
        "Apriori 算法基本思想如下  \n",
        ">首先找出所有的频集，这些项集出现的频繁性至少和预定义的最小支持度一样。然后由频集产生强关联规则，这些规则必须满足最小支持度和最小可信度。然后使用第1步找到的频集产生期望的规则，产生只包含集合的项的所有规则，其中每一条规则的右部只有一项，这里采用的是中规则的定义。一旦这些规则被生成，那么只有那些大于用户给定的最小可信度的规则才被留下来。为了生成所有频集，使用了递归的方法。\n",
        "\n",
        "### 关联规则\n",
        "1. 支持度\n",
        "   揭示了X与Y同时出现的概率。如果X与Y同时出现的概率小，说明X与Y的关系不大；如果X与Y同时出现的非常频繁，则说明X与Y总是相关的。\n",
        "$$Sup(x)=\\frac{count(X)}{all_data}$$\n",
        "2. 置信度\n",
        "   揭示了X出现时，Y是否也会出现或有多大概率出现。如果置信度太低，则说明X的出现与Y是否出现关系不大。\n",
        "$$conf(X \\to Y)=\\frac{Sup(X \\cup Y}{Sup(X)}$$\n",
        "3. 评价指标 Lift\n",
        "$$lift(X \\to Y)=\\frac{Sup(X \\cup Y}{Sup(X) \\times Sup(Y)}$$\n",
        "4. 评价指标 Jaccard\n",
        "$$Jaccard(X \\to Y) = \\frac{X \\cup Y}{Sup(X) + Sup(Y) - Sup(X \\cup Y)}$$\n"
      ]
    },
    {
      "cell_type": "markdown",
      "metadata": {},
      "source": [
        "## 关联规则实现"
      ]
    },
    {
      "cell_type": "code",
      "execution_count": 30,
      "metadata": {
        "colab": {},
        "colab_type": "code",
        "id": "cJZuC5aliiTI"
      },
      "outputs": [],
      "source": [
        "# from tqdm import tqdm\n",
        "from progressbar import *\n",
        "\n",
        "class Association(object):\n",
        "    #首先找出所有频繁项集，然后由频繁项集产生强关联规则\n",
        "    def __init__(self, min_support = 0.1, min_confidence = 0.5):\n",
        "        self.min_support = min_support         # 最小支持度\n",
        "        self.min_confidence = min_confidence   #  最小置信度\n",
        "\n",
        "    def apriori(self, dataset):\n",
        "        \"\"\"\n",
        "        Apriori algorithm\n",
        "        dataset:数据集，类型为一个list，list中每个元素是一个dict，key为属性名，value为对应属性的取值\n",
        "        返回生成的频繁项集\n",
        "        \"\"\"\n",
        "        C1 = self.create_C1(dataset)\n",
        "        dataset = [set(data) for data in dataset]\n",
        "        L1, support_data = self.scan_D(dataset, C1)\n",
        "        L = [L1]\n",
        "        k = 2\n",
        "        while len(L[k-2]) > 0:\n",
        "            Ck = self.apriori_gen(L[k-2], k)\n",
        "            Lk, support_k = self.scan_D(dataset, Ck)\n",
        "            support_data.update(support_k)\n",
        "            L.append(Lk)\n",
        "            k += 1\n",
        "        return L, support_data\n",
        "\n",
        "    def create_C1(self, dataset):\n",
        "        \"\"\"\n",
        "        构建全部可能的单元素候选项集合(list)\n",
        "        每个单元素候选项：（属性名，属性取值）\n",
        "        \"\"\"\n",
        "        C1 = []\n",
        "        progress = ProgressBar()\n",
        "        for data in progress(dataset):\n",
        "            for item in data:\n",
        "                if [item] not in C1:\n",
        "                    C1.append([item])\n",
        "        return [frozenset(item) for item in C1]\n",
        "\n",
        "    def scan_D(self, dataset, Ck):\n",
        "        \"\"\"\n",
        "        根据待选项集Ck的情况，判断数据集D中Ck元素的出现频率\n",
        "        过滤掉低于最小支持度的项集\n",
        "        \"\"\"\n",
        "        Ck_count = dict()\n",
        "        for data in dataset:\n",
        "            for cand in Ck:\n",
        "                if cand.issubset(data):\n",
        "                    if cand not in Ck_count:\n",
        "                        Ck_count[cand] = 1\n",
        "                    else:\n",
        "                        Ck_count[cand] += 1\n",
        "\n",
        "        num_items = float(len(dataset))\n",
        "        return_list = []\n",
        "        support_data = dict()\n",
        "        # 过滤非频繁项集\n",
        "        for key in Ck_count:\n",
        "            support  = Ck_count[key] / num_items\n",
        "            if support >= self.min_support:\n",
        "                return_list.insert(0, key)\n",
        "            support_data[key] = support\n",
        "        return return_list, support_data\n",
        "\n",
        "    def apriori_gen(self, Lk, k):\n",
        "        #合并元素时容易出现重复,针对包含k个元素的频繁项集，对比每个频繁项集第k-2位是否一致\n",
        "        return_list = []\n",
        "        len_Lk = len(Lk)\n",
        "        for i in range(len_Lk):\n",
        "            for j in range(i+1, len_Lk):\n",
        "                # 第k-2个项相同时，将两个集合合并\n",
        "                L1 = list(Lk[i])[:k-2]\n",
        "                L2 = list(Lk[j])[:k-2]\n",
        "                L1.sort()\n",
        "                L2.sort()\n",
        "                if L1 == L2:\n",
        "                    return_list.append(Lk[i] | Lk[j])\n",
        "        return return_list\n",
        "\n",
        "    def generate_rules(self, L, support_data):\n",
        "        \"\"\"\n",
        "        强关联规则\n",
        "        基于Apriori算法，首先从一个频繁项集开始，接着创建一个规则列表，\n",
        "        其中规则右部只包含一个元素，然后对这些规则进行测试。\n",
        "        接下来合并所有的剩余规则列表来创建一个新的规则列表，\n",
        "        其中规则右部包含两个元素。这种方法称作分级法。\n",
        "        L: 频繁项集\n",
        "        support_data: 频繁项集对应的支持度\n",
        "        返回强关联规则列表\n",
        "        \"\"\"\n",
        "        big_rules_list = []\n",
        "        for i in range(1, len(L)):\n",
        "            for freq_set in L[i]:\n",
        "                H1 = [frozenset([item]) for item in freq_set]\n",
        "                # 只获取有两个或更多元素的集合\n",
        "                if i > 1:\n",
        "                    self.rules_from_conseq(freq_set, H1, support_data, big_rules_list)\n",
        "                else:\n",
        "                    self.cal_conf(freq_set, H1, support_data, big_rules_list)\n",
        "        return big_rules_list\n",
        "\n",
        "    def rules_from_conseq(self, freq_set, H, support_data, big_rules_list):\n",
        "        # H->出现在规则右部的元素列表\n",
        "        m = len(H[0])\n",
        "        if len(freq_set) > (m+1):\n",
        "            Hmp1 = self.apriori_gen(H, m+1)\n",
        "            Hmp1 = self.cal_conf(freq_set, Hmp1, support_data, big_rules_list)\n",
        "            if len(Hmp1) > 1:\n",
        "                self.rules_from_conseq(freq_set, Hmp1, support_data, big_rules_list)\n",
        "\n",
        "    def cal_conf(self, freq_set, H, support_data, big_rules_list):\n",
        "        # 评估生成的规则\n",
        "        prunedH = []\n",
        "        for conseq in H:\n",
        "            sup = support_data[freq_set]\n",
        "            conf = sup / support_data[freq_set - conseq]\n",
        "            lift = conf / support_data[freq_set - conseq]\n",
        "            jaccard = sup / (support_data[freq_set - conseq] + support_data[conseq] - sup)\n",
        "            if conf >= self.min_confidence:\n",
        "                big_rules_list.append((freq_set-conseq, conseq, sup, conf, lift,jaccard))\n",
        "                prunedH.append(conseq)\n",
        "        return prunedH"
      ]
    },
    {
      "cell_type": "markdown",
      "metadata": {},
      "source": [
        "## 数据预处理"
      ]
    },
    {
      "cell_type": "code",
      "execution_count": 31,
      "metadata": {
        "colab": {},
        "colab_type": "code",
        "id": "rEV0P8mniiTS"
      },
      "outputs": [],
      "source": [
        "class OCS_dataset():\n",
        "    def __init__(self,data_file_path,result_path,feature_list=None):\n",
        "        self.data_file_path = data_file_path\n",
        "        self.feature_list = feature_list\n",
        "        self.result_path = result_path\n",
        "\n",
        "    def set_feature_list(self,feature_list):\n",
        "        self.feature_list = feature_list\n",
        "        \n",
        "    def set_data_file_path(self,data_file_path):\n",
        "        self.data_file_path = data_file_path\n",
        "    \n",
        "    def set_result_path(result_path):\n",
        "        self.result_path = result_path\n",
        "    \n",
        "    def data_read(self):\n",
        "\n",
        "        data2011 = pd.read_csv(self.data_file_path+\"/records-for-2011.csv\", encoding=\"utf-8\")\n",
        "        data2012 = pd.read_csv(self.data_file_path+\"/records-for-2012.csv\", encoding=\"utf-8\")\n",
        "        data2013 = pd.read_csv(self.data_file_path+\"/records-for-2013.csv\", encoding=\"utf-8\")\n",
        "        data2014 = pd.read_csv(self.data_file_path+\"/records-for-2014.csv\", encoding=\"utf-8\")\n",
        "        data2015 = pd.read_csv(self.data_file_path+\"/records-for-2015.csv\", encoding=\"utf-8\")\n",
        "        data2016 = pd.read_csv(self.data_file_path+\"/records-for-2016.csv\", encoding=\"utf-8\")\n",
        "\n",
        "        \"\"\"\n",
        "        print(data11.info()); print(data12.info()); print(data13.info());\n",
        "        print(data14.info()); print(data15.info()); print(data16.info());\n",
        "        \"\"\"\n",
        "        \n",
        "        data2012.rename(columns={\"Location 1\": \"Location\"}, inplace = True)\n",
        "        data2013.rename(columns={\"Location \": \"Location\"}, inplace = True)\n",
        "        data2014.rename(columns={\"Location 1\": \"Location\"}, inplace = True)\n",
        "\n",
        "        order=[\"Agency\", \"Location\", \"Area Id\", \"Beat\", \"Priority\", \n",
        "               \"Incident Type Id\", \"Incident Type Description\", \"Event Number\"]\n",
        "        data2011_2 = data2011[order]; data2012_2 = data2012[order]; data2013_2 = data2013[order]\n",
        "        data2014_2 = data2014[order]; data2015_2 = data2015[order]; data2016_2 = data2016[order]\n",
        "\n",
        "        data_all = pd.concat([data2011_2, data2012_2, data2013_2, data2014_2, data2015_2, data2016_2],\n",
        "                             axis=0)\n",
        "        print(\"合并后的数据集:\"); print(data_all.info())\n",
        "        data_all = data_all.dropna(how='any')\n",
        "\n",
        "        return data_all\n",
        "\n",
        "\n",
        "    def mining(self,min_support = 0.1, min_confidence = 0.5,head_n=None):\n",
        "        out_path = self.result_path\n",
        "        association = Association(min_support=min_support,min_confidence=min_confidence)\n",
        "        data_all = self.data_read()\n",
        "        rows = None\n",
        "        if head_n is None:\n",
        "          rows = data_all.values.tolist()\n",
        "        else:\n",
        "          rows = data_all.head(head_n).values.tolist()\n",
        "\n",
        "        # 将数据转为数据字典存储\n",
        "        dataset = []\n",
        "        feature_names = [\"Agency\", \"Location\", \"Area Id\", \"Beat\", \"Priority\", \n",
        "                             \"Incident Type Id\", \"Incident Type Description\", \"Event Number\"]\n",
        "        for data_line in rows:\n",
        "            data_set = []\n",
        "            for i, value in enumerate(data_line):\n",
        "                if not value:\n",
        "                    data_set.append((feature_names[i], 'NA'))\n",
        "                else:\n",
        "                    data_set.append((feature_names[i], value))\n",
        "            dataset.append(data_set)\n",
        "        print(\"挖掘开始\")\n",
        "        # 获取频繁项集\n",
        "        freq_set, sup_rata = association.apriori(dataset)\n",
        "        sup_rata_out = sorted(sup_rata.items(), key=lambda d: d[1], reverse=True)\n",
        "        # 获取强关联规则列表\n",
        "        strong_rules_list = association.generate_rules(freq_set, sup_rata)\n",
        "        strong_rules_list = sorted(strong_rules_list, key=lambda x: x[3], reverse=True)\n",
        "\n",
        "        print(\"挖掘完成！\")\n",
        "        # 将频繁项集输出到结果文件\n",
        "        freq_set_file = open(os.path.join(out_path, 'fterms.json'), 'w')\n",
        "        for (key, value) in sup_rata_out:\n",
        "            result_dict = {'set': None, 'sup': None}\n",
        "            set_result = list(key)\n",
        "            sup_result = value\n",
        "            if sup_result < association.min_support:\n",
        "                continue\n",
        "            result_dict['set'] = set_result\n",
        "            result_dict['sup'] = sup_result\n",
        "            json_str = json.dumps(result_dict, ensure_ascii=False)\n",
        "            freq_set_file.write(json_str + '\\n')\n",
        "        freq_set_file.close()\n",
        "\n",
        "        #将关联规则输出到结果文件\n",
        "        rules_file = open(os.path.join(out_path, 'rules.json'), 'w')\n",
        "        for result in strong_rules_list:\n",
        "            result_dict = {'X_set': None, 'Y_set': None, 'sup': None, 'conf': None, 'lift': None, 'jaccard': None}\n",
        "            X_set, Y_set, sup, conf, lift, jaccard = result\n",
        "            result_dict['X_set'] = list(X_set)\n",
        "            result_dict['Y_set'] = list(Y_set)\n",
        "            result_dict['sup'] = sup\n",
        "            result_dict['conf'] = conf\n",
        "            result_dict['lift'] = lift\n",
        "            result_dict['jaccard'] = jaccard\n",
        "\n",
        "            json_str = json.dumps(result_dict, ensure_ascii=False)\n",
        "            # rules_file.write(json_str + '\\n')\n",
        "        rules_file.close()\n",
        "        print(\"结果存储完成！\")"
      ]
    },
    {
      "cell_type": "code",
      "execution_count": null,
      "metadata": {
        "colab": {
          "base_uri": "https://localhost:8080/",
          "height": 374
        },
        "colab_type": "code",
        "id": "ivZMIe6uiiTW",
        "outputId": "51073ed8-c9e3-4c6b-f731-c7540d93d643"
      },
      "outputs": [],
      "source": [
        "ocs = OCS_dataset(data_file_path=\"D:/Codes/python/oakland crime\",\n",
        "                 result_path=\"D:/Codes/python/oakland crime result\")\n",
        "ocs.mining(min_support = 0.1, min_confidence = 0.5,head_n=50000)"
      ]
    },
    {
      "cell_type": "markdown",
      "metadata": {
        "colab_type": "text",
        "id": "aWyixUHfFKXJ"
      },
      "source": [
        "## 结果可视化"
      ]
    },
    {
      "cell_type": "code",
      "execution_count": 17,
      "metadata": {
        "colab": {
          "base_uri": "https://localhost:8080/",
          "height": 572
        },
        "colab_type": "code",
        "id": "ru7ZlqmKiiTa",
        "outputId": "9d0d9a06-24a2-4890-bbf4-e75eb7368364"
      },
      "outputs": [
        {
          "data": {
            "image/png": "[encoded data removed]",
            "text/plain": [
              "<Figure size 432x288 with 1 Axes>"
            ]
          },
          "metadata": {
            "needs_background": "light"
          },
          "output_type": "display_data"
        },
        {
          "data": {
            "image/png": "[encoded data removed]",
            "text/plain": [
              "<Figure size 432x288 with 1 Axes>"
            ]
          },
          "metadata": {
            "needs_background": "light"
          },
          "output_type": "display_data"
        }
      ],
      "source": [
        "with open(\"D:/Codes/python/oakland crime result/fterms.json\") as f1:\n",
        "  freq = [json.loads(each) for each in f1.readlines()]\n",
        "  freq_sup = [each[\"sup\"] for each in freq]\n",
        "  plt.figure()\n",
        "  plt.title(\"Frequent item\")\n",
        "  plt.boxplot(freq_sup)\n",
        "  plt.show()\n",
        "\n",
        "with open(\"D:/Codes/python/oakland crime result/rules.json\") as f2:\n",
        "  rules = [json.loads(each) for each in f2.readlines()]\n",
        "  rules_sup = [each[\"sup\"] for each in rules]\n",
        "  rules_conf = [each[\"conf\"] for each in rules]\n",
        "  fig=plt.figure(\"rule\")\n",
        "  ax=fig.add_axes([0.1,0.1,0.8,0.8])\n",
        "  ax.set_title(\"Rules\")\n",
        "  ax.scatter(rules_sup, rules_conf, marker='o', color='green')\n",
        "  ax.set_xlabel(\"Support\")\n",
        "  ax.set_ylabel(\"Confidence\")\n",
        "  plt.show()"
      ]
    },
    {
      "cell_type": "markdown",
      "metadata": {
        "colab_type": "text",
        "id": "cv59tUjdFUjs"
      },
      "source": [
        "## 挖掘结果分析\n",
        "### 频繁项集\n",
        "将频繁项集按照支持度由大到小排序，结果如下："
      ]
    },
    {
      "cell_type": "code",
      "execution_count": 18,
      "metadata": {
        "colab": {
          "base_uri": "https://localhost:8080/",
          "height": 357
        },
        "colab_type": "code",
        "id": "rloP9MOPFq_w",
        "outputId": "aa1f20ef-499f-492c-cc48-73c613759f2b"
      },
      "outputs": [
        {
          "data": {
            "text/plain": [
              "[{'set': [['Agency', 'OP']], 'sup': 1.0},\n",
              " {'set': [['Priority', 2.0]], 'sup': 0.81442},\n",
              " {'set': [['Agency', 'OP'], ['Priority', 2.0]], 'sup': 0.81442},\n",
              " {'set': [['Area Id', 1.0]], 'sup': 0.35754},\n",
              " {'set': [['Agency', 'OP'], ['Area Id', 1.0]], 'sup': 0.35754},\n",
              " {'set': [['Area Id', 3.0]], 'sup': 0.35092},\n",
              " {'set': [['Agency', 'OP'], ['Area Id', 3.0]], 'sup': 0.35092},\n",
              " {'set': [['Area Id', 1.0], ['Priority', 2.0]], 'sup': 0.29566},\n",
              " {'set': [['Agency', 'OP'], ['Area Id', 1.0], ['Priority', 2.0]],\n",
              "  'sup': 0.29566},\n",
              " {'set': [['Area Id', 2.0]], 'sup': 0.29154},\n",
              " {'set': [['Agency', 'OP'], ['Area Id', 2.0]], 'sup': 0.29154},\n",
              " {'set': [['Priority', 2.0], ['Area Id', 3.0]], 'sup': 0.27902},\n",
              " {'set': [['Agency', 'OP'], ['Priority', 2.0], ['Area Id', 3.0]],\n",
              "  'sup': 0.27902},\n",
              " {'set': [['Area Id', 2.0], ['Priority', 2.0]], 'sup': 0.23974},\n",
              " {'set': [['Agency', 'OP'], ['Area Id', 2.0], ['Priority', 2.0]],\n",
              "  'sup': 0.23974},\n",
              " {'set': [['Priority', 1.0]], 'sup': 0.18556},\n",
              " {'set': [['Agency', 'OP'], ['Priority', 1.0]], 'sup': 0.18556}]"
            ]
          },
          "execution_count": 18,
          "metadata": {},
          "output_type": "execute_result"
        }
      ],
      "source": [
        "freq"
      ]
    },
    {
      "cell_type": "markdown",
      "metadata": {
        "colab_type": "text",
        "id": "sMFdNKGeGRU4"
      },
      "source": [
        "### 关联规则\n",
        "将关联规则按照置信度由大到小排序，相应的支持度、置信度、Lift、jaccard结果如下。\n",
        "分析可知，Ared Id的置信度最高，且Area Id与Priority的关联度较高,说明该地区犯罪事实出现最多。"
      ]
    },
    {
      "cell_type": "code",
      "execution_count": 19,
      "metadata": {
        "colab": {
          "base_uri": "https://localhost:8080/",
          "height": 1000
        },
        "colab_type": "code",
        "id": "uOqOy8hRFXlg",
        "outputId": "bb0eb3ce-2624-4f29-ffa1-210d8784e085"
      },
      "outputs": [
        {
          "data": {
            "text/plain": [
              "[{'X_set': [['Area Id', 3.0]],\n",
              "  'Y_set': [['Agency', 'OP']],\n",
              "  'sup': 0.35092,\n",
              "  'conf': 1.0,\n",
              "  'lift': 2.8496523424142253,\n",
              "  'jaccard': 0.35092000000000007},\n",
              " {'X_set': [['Area Id', 2.0]],\n",
              "  'Y_set': [['Agency', 'OP']],\n",
              "  'sup': 0.29154,\n",
              "  'conf': 1.0,\n",
              "  'lift': 3.4300610550867803,\n",
              "  'jaccard': 0.2915400000000001},\n",
              " {'X_set': [['Priority', 2.0]],\n",
              "  'Y_set': [['Agency', 'OP']],\n",
              "  'sup': 0.81442,\n",
              "  'conf': 1.0,\n",
              "  'lift': 1.2278676849782666,\n",
              "  'jaccard': 0.81442},\n",
              " {'X_set': [['Area Id', 1.0]],\n",
              "  'Y_set': [['Agency', 'OP']],\n",
              "  'sup': 0.35754,\n",
              "  'conf': 1.0,\n",
              "  'lift': 2.796889858477373,\n",
              "  'jaccard': 0.35754},\n",
              " {'X_set': [['Priority', 1.0]],\n",
              "  'Y_set': [['Agency', 'OP']],\n",
              "  'sup': 0.18556,\n",
              "  'conf': 1.0,\n",
              "  'lift': 5.389092476826902,\n",
              "  'jaccard': 0.18556},\n",
              " {'X_set': [['Area Id', 1.0]],\n",
              "  'Y_set': [['Priority', 2.0]],\n",
              "  'sup': 0.29566,\n",
              "  'conf': 0.82692845555742,\n",
              "  'lift': 2.312827811034905,\n",
              "  'jaccard': 0.33739586899463647},\n",
              " {'X_set': [['Area Id', 1.0]],\n",
              "  'Y_set': [['Agency', 'OP'], ['Priority', 2.0]],\n",
              "  'sup': 0.29566,\n",
              "  'conf': 0.82692845555742,\n",
              "  'lift': 2.312827811034905,\n",
              "  'jaccard': 0.33739586899463647},\n",
              " {'X_set': [['Area Id', 2.0]],\n",
              "  'Y_set': [['Priority', 2.0]],\n",
              "  'sup': 0.23974,\n",
              "  'conf': 0.8223228373465047,\n",
              "  'lift': 2.8206175390907067,\n",
              "  'jaccard': 0.2767657177160537},\n",
              " {'X_set': [['Area Id', 2.0]],\n",
              "  'Y_set': [['Agency', 'OP'], ['Priority', 2.0]],\n",
              "  'sup': 0.23974,\n",
              "  'conf': 0.8223228373465047,\n",
              "  'lift': 2.8206175390907067,\n",
              "  'jaccard': 0.2767657177160537},\n",
              " {'X_set': [['Agency', 'OP']],\n",
              "  'Y_set': [['Priority', 2.0]],\n",
              "  'sup': 0.81442,\n",
              "  'conf': 0.81442,\n",
              "  'lift': 0.81442,\n",
              "  'jaccard': 0.81442},\n",
              " {'X_set': [['Area Id', 3.0]],\n",
              "  'Y_set': [['Priority', 2.0]],\n",
              "  'sup': 0.27902,\n",
              "  'conf': 0.7951099965804171,\n",
              "  'lift': 2.2657870642323523,\n",
              "  'jaccard': 0.3148072930769925},\n",
              " {'X_set': [['Area Id', 3.0]],\n",
              "  'Y_set': [['Agency', 'OP'], ['Priority', 2.0]],\n",
              "  'sup': 0.27902,\n",
              "  'conf': 0.7951099965804171,\n",
              "  'lift': 2.2657870642323523,\n",
              "  'jaccard': 0.3148072930769925}]"
            ]
          },
          "execution_count": 19,
          "metadata": {},
          "output_type": "execute_result"
        }
      ],
      "source": [
        "rules"
      ]
    }
  ],
  "metadata": {
    "colab": {
      "name": "fpaadm.ipynb",
      "provenance": [],
      "toc_visible": true
    },
    "kernelspec": {
      "display_name": "Python 3",
      "language": "python",
      "name": "python3"
    },
    "language_info": {
      "codemirror_mode": {
        "name": "ipython",
        "version": 3
      },
      "file_extension": ".py",
      "mimetype": "text/x-python",
      "name": "python",
      "nbconvert_exporter": "python",
      "pygments_lexer": "ipython3",
      "version": "3.8.8"
    }
  },
  "nbformat": 4,
  "nbformat_minor": 0
}
